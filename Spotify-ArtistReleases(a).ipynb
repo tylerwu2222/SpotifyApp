{
 "cells": [
  {
   "cell_type": "code",
   "execution_count": 5,
   "metadata": {},
   "outputs": [],
   "source": [
    "import os\n",
    "import sys\n",
    "import json\n",
    "import spotipy\n",
    "import webbrowser\n",
    "import spotipy.util as util\n",
    "from json.decoder import JSONDecodeError\n",
    "import pandas as pd\n",
    "import numpy as np\n",
    "from itertools import compress\n",
    "import tkinter as tk\n",
    "\n",
    "# from bokeh.io import output_notebook, show\n",
    "# from bokeh.plotting import figure\n",
    "# from bokeh.models import TextInput"
   ]
  },
  {
   "cell_type": "code",
   "execution_count": 17,
   "metadata": {},
   "outputs": [
    {
     "name": "stdout",
     "output_type": "stream",
     "text": [
      "env: SPOTIPY_CLIENT_ID=d7975b1684ab45b7a28e97c355229077\n",
      "env: SPOTIPY_CLIENT_SECRET=1b34039592a9481ca59d511da9d471a5\n",
      "env: SPOTIPY_REDIRECT_URI=http://google.com/\n"
     ]
    }
   ],
   "source": [
    "%env SPOTIPY_CLIENT_ID=d7975b1684ab45b7a28e97c355229077\n",
    "%env SPOTIPY_CLIENT_SECRET=1b34039592a9481ca59d511da9d471a5\n",
    "%env SPOTIPY_REDIRECT_URI=http://google.com/"
   ]
  },
  {
   "cell_type": "code",
   "execution_count": 18,
   "metadata": {},
   "outputs": [],
   "source": [
    "def authorize():\n",
    "    # get username\n",
    "    username = sys.argv[1]\n",
    "\n",
    "    # 22jcqps2wnphydtifbil43nfy?si=uS3xsIU5T2mw903owjCZHw\n",
    "\n",
    "    # erase cache and ask for permissions\n",
    "    try:\n",
    "        token = util.prompt_for_user_token(username)\n",
    "    except:\n",
    "    #     os.remove(f\".cache-{username}\")\n",
    "        token = util.prompt_for_user_token(username)\n",
    "\n",
    "    # create spotipyObject\n",
    "    spotObj = spotipy.Spotify(auth=token)\n",
    "    return spotObj"
   ]
  },
  {
   "cell_type": "code",
   "execution_count": 5,
   "metadata": {},
   "outputs": [],
   "source": [
    "# code to print out json data in nice format\n",
    "#print(json.dumps(VARIABLE,sort_keys=True,indent=4))"
   ]
  },
  {
   "cell_type": "code",
   "execution_count": 1,
   "metadata": {},
   "outputs": [],
   "source": [
    "def artist_search(spotObj):\n",
    "    global current_artist\n",
    "    global current_data\n",
    "    \n",
    "    user = spotObj.current_user()\n",
    "    display_name = user['display_name'] # grab display name from json with key\n",
    "    \n",
    "    artist = search_field.get() # get artist search query\n",
    "    # handle empty search query\n",
    "    if artist == '':\n",
    "        display.configure(state=tk.NORMAL)\n",
    "        display.insert(tk.END, 'the search field is empty\\n')\n",
    "        display.update()\n",
    "    else:\n",
    "        # let user know we are searching...\n",
    "        display.configure(state=tk.NORMAL)\n",
    "        display.insert(tk.END, 'searching for artist...\\n')\n",
    "        display.update()\n",
    "        display.configure(state=tk.DISABLED)\n",
    "        \n",
    "        # artist found\n",
    "        search_results = spotObj.search(artist,limit=1,offset=0,type='artist')\n",
    "        artist_info = search_results['artists']['items'][0]\n",
    "        artist_name = artist_info['name']\n",
    "        current_artist = artist_name\n",
    "        artist_id = artist_info['id'] # use artist id to find albums\n",
    "        display.configure(state=tk.NORMAL)\n",
    "        display.delete(\"end-2l\",\"end-1l\")\n",
    "    #     display.delete('11.0','12.0')\n",
    "        display.insert(tk.END, 'press ADD to add this artist:\\n' + artist_name + '\\n')\n",
    "        display.configure(state=tk.DISABLED)\n",
    "\n",
    "        artist_releases = spotObj.artist_albums(artist_id)['items'] # all of artists releases \n",
    "\n",
    "        release_type = [release['album_type'] for release in artist_releases]\n",
    "        album_indices = [_type == 'album' for _type in release_type]\n",
    "        artist_albums = list(compress(artist_releases, album_indices)) # only albums\n",
    "\n",
    "        unique_dates = [] # to prevent duplciates\n",
    "        unique_names = [] # to prevent duplciates\n",
    "        data = [] # list to store album info\n",
    "        for album in artist_albums:\n",
    "            album_date = album['release_date']\n",
    "            album_name = album['name']\n",
    "\n",
    "            # first ensure album is a unique entry \n",
    "            if album_date not in unique_dates and album_name not in unique_names:\n",
    "                album_id = album['id']\n",
    "                album_image = album['images'][0]['url']\n",
    "                album_track_n = album['total_tracks']\n",
    "\n",
    "                unique_dates.append(album_date) # add entry to prevent duplicates\n",
    "                unique_names.append(album_name)\n",
    "\n",
    "                # obtain track info\n",
    "                album_tracks = spotObj.album_tracks(album_id)['items']\n",
    "\n",
    "                track_infos = []\n",
    "                for track in album_tracks:\n",
    "                    track_name = track['name']\n",
    "                    track_id = track['id']\n",
    "                    track_fts = track['artists']\n",
    "                    track_fts = [artist for i,artist in enumerate(track_fts) if i!=0] # gets all artists except main\n",
    "                    track_fts = [artist.get('name') for artist in track_fts]\n",
    "                    ms = track['duration_ms']\n",
    "                    secs = round(ms / 1000)\n",
    "                    mins = secs // 60\n",
    "                    secs = secs % 60\n",
    "                    track_dur = '%d:%d' % (mins,secs)\n",
    "                    track_info = {'artist':artist_name,'name':track_name,'id':track_id,'features':track_fts,'feature_count':len(track_fts),'duration':track_dur}\n",
    "                    track_infos.append(track_info)\n",
    "\n",
    "                row = [artist_name,album_id,album_image,album_name,album_date,album_track_n,track_infos]\n",
    "                data.append(row) # add row to data\n",
    "\n",
    "        # store album releases in df\n",
    "        current_data = pd.DataFrame(data,columns = ['artist','id','cover','name','release','track_count','track_info'])"
   ]
  },
  {
   "cell_type": "code",
   "execution_count": null,
   "metadata": {},
   "outputs": [],
   "source": []
  }
 ],
 "metadata": {
  "kernelspec": {
   "display_name": "Python 3",
   "language": "python",
   "name": "python3"
  },
  "language_info": {
   "codemirror_mode": {
    "name": "ipython",
    "version": 3
   },
   "file_extension": ".py",
   "mimetype": "text/x-python",
   "name": "python",
   "nbconvert_exporter": "python",
   "pygments_lexer": "ipython3",
   "version": "3.7.6"
  }
 },
 "nbformat": 4,
 "nbformat_minor": 4
}
